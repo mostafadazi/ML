{
 "cells": [
  {
   "attachments": {
    "COUR_IPO.png": {
     "image/png": "[encoded data removed]"
    }
   },
   "cell_type": "markdown",
   "metadata": {},
   "source": [
    "![COUR_IPO.png](attachment:COUR_IPO.png)"
   ]
  },
  {
   "cell_type": "markdown",
   "metadata": {},
   "source": [
    "# Welcome to the Data Science Coding Challange!\n",
    "\n",
    "Test your skills in a real-world coding challenge. Coding Challenges provide CS & DS Coding Competitions with Prizes and achievement badges!\n",
    "\n",
    "CS & DS learners want to be challenged as a way to evaluate if they’re job ready. So, why not create fun challenges and give winners something truly valuable such as complimentary access to select Data Science courses, or the ability to receive an achievement badge on their Coursera Skills Profile - highlighting their performance to recruiters."
   ]
  },
  {
   "cell_type": "markdown",
   "metadata": {},
   "source": [
    "## Introduction\n",
    "\n",
    "In this challenge, you'll get the opportunity to tackle one of the most industry-relevant maching learning problems with a unique dataset that will put your modeling skills to the test. Subscription services are leveraged by companies across many industries, from fitness to video streaming to retail. One of the primary objectives of companies with subscription services is to decrease churn and ensure that users are retained as subscribers. In order to do this efficiently and systematically, many companies employ machine learning to predict which users are at the highest risk of churn, so that proper interventions can be effectively deployed to the right audience.\n",
    "\n",
    "In this challenge, we will be tackling the churn prediction problem on a very unique and interesting group of subscribers on a video streaming service! \n",
    "\n",
    "Imagine that you are a new data scientist at this video streaming company and you are tasked with building a model that can predict which existing subscribers will continue their subscriptions for another month. We have provided a dataset that is a sample of subscriptions that were initiated in 2021, all snapshotted at a particular date before the subscription was cancelled. Subscription cancellation can happen for a multitude of reasons, including:\n",
    "* the customer completes all content they were interested in, and no longer need the subscription\n",
    "* the customer finds themselves to be too busy and cancels their subscription until a later time\n",
    "* the customer determines that the streaming service is not the best fit for them, so they cancel and look for something better suited\n",
    "\n",
    "Regardless the reason, this video streaming company has a vested interest in understanding the likelihood of each individual customer to churn in their subscription so that resources can be allocated appropriately to support customers. In this challenge, you will use your machine learning toolkit to do just that!"
   ]
  },
  {
   "cell_type": "markdown",
   "metadata": {},
   "source": [
    "## Understanding the Datasets"
   ]
  },
  {
   "cell_type": "markdown",
   "metadata": {},
   "source": [
    "### Train vs. Test\n",
    "In this competition, you’ll gain access to two datasets that are samples of past subscriptions of a video streaming platform that contain information about the customer, the customers streaming preferences, and their activity in the subscription thus far. One dataset is titled `train.csv` and the other is titled `test.csv`.\n",
    "\n",
    "`train.csv` contains 70% of the overall sample (243,787 subscriptions to be exact) and importantly, will reveal whether or not the subscription was continued into the next month (the “ground truth”).\n",
    "\n",
    "The `test.csv` dataset contains the exact same information about the remaining segment of the overall sample (104,480 subscriptions to be exact), but does not disclose the “ground truth” for each subscription. It’s your job to predict this outcome!\n",
    "\n",
    "Using the patterns you find in the `train.csv` data, predict whether the subscriptions in `test.csv` will be continued for another month, or not."
   ]
  },
  {
   "cell_type": "markdown",
   "metadata": {},
   "source": [
    "### Dataset descriptions\n",
    "Both `train.csv` and `test.csv` contain one row for each unique subscription. For each subscription, a single observation (`CustomerID`) is included during which the subscription was active. \n",
    "\n",
    "In addition to this identifier column, the `train.csv` dataset also contains the target label for the task, a binary column `Churn`.\n",
    "\n",
    "Besides that column, both datasets have an identical set of features that can be used to train your model to make predictions. Below you can see descriptions of each feature. Familiarize yourself with them so that you can harness them most effectively for this machine learning task!"
   ]
  },
  {
   "cell_type": "code",
   "execution_count": null,
   "metadata": {},
   "outputs": [],
   "source": [
    "import pandas as pd\n",
    "data_descriptions = pd.read_csv('data_descriptions.csv')\n",
    "pd.set_option('display.max_colwidth', None)\n",
    "data_descriptions"
   ]
  },
  {
   "cell_type": "markdown",
   "metadata": {},
   "source": [
    "## How to Submit your Predictions to Coursera\n",
    "Submission Format:\n",
    "\n",
    "In this notebook you should follow the steps below to explore the data, train a model using the data in `train.csv`, and then score your model using the data in `test.csv`. Your final submission should be a dataframe (call it `prediction_df` with two columns and exactly 104,480 rows (plus a header row). The first column should be `CustomerID` so that we know which prediction belongs to which observation. The second column should be called `predicted_probability` and should be a numeric column representing the __likellihood that the subscription will churn__.\n",
    "\n",
    "Your submission will show an error if you have extra columns (beyond `CustomerID` and `predicted_probability`) or extra rows. The order of the rows does not matter.\n",
    "\n",
    "The naming convention of the dataframe and columns are critical for our autograding, so please make sure to use the exact naming conventions of `prediction_df` with column names `CustomerID` and `predicted_probability`!\n",
    "\n",
    "To determine your final score, we will compare your `predicted_probability` predictions to the source of truth labels for the observations in `test.csv` and calculate the [ROC AUC](https://scikit-learn.org/stable/modules/generated/sklearn.metrics.roc_auc_score.html). We choose this metric because we not only want to be able to predict which subscriptions will be retained, but also want a well-calibrated likelihood score that can be used to target interventions and support most accurately."
   ]
  },
  {
   "cell_type": "markdown",
   "metadata": {},
   "source": [
    "## Import Python Modules\n",
    "\n",
    "First, import the primary modules that will be used in this project. Remember as this is an open-ended project please feel free to make use of any of your favorite libraries that you feel may be useful for this challenge. For example some of the following popular packages may be useful:\n",
    "\n",
    "- pandas\n",
    "- numpy\n",
    "- Scipy\n",
    "- Scikit-learn\n",
    "- keras\n",
    "- maplotlib\n",
    "- seaborn\n",
    "- etc, etc"
   ]
  },
  {
   "cell_type": "code",
   "execution_count": 66,
   "metadata": {},
   "outputs": [],
   "source": [
    "# Import required packages\n",
    "\n",
    "# Data packages\n",
    "import pandas as pd\n",
    "import numpy as np\n",
    "\n",
    "# Machine Learning / Classification packages\n",
    "from sklearn.metrics import roc_auc_score\n",
    "from sklearn.model_selection import train_test_split\n",
    "from sklearn.dummy import DummyClassifier\n",
    "\n",
    "# Visualization Packages\n",
    "from matplotlib import pyplot as plt\n",
    "import seaborn as sns\n",
    "%matplotlib inline"
   ]
  },
  {
   "cell_type": "code",
   "execution_count": null,
   "metadata": {},
   "outputs": [],
   "source": [
    "# Import any other packages you may want to use\n"
   ]
  },
  {
   "cell_type": "markdown",
   "metadata": {},
   "source": [
    "## Load the Data\n",
    "\n",
    "Let's start by loading the dataset `train.csv` into a dataframe `train_df`, and `test.csv` into a dataframe `test_df` and display the shape of the dataframes."
   ]
  },
  {
   "cell_type": "code",
   "execution_count": 67,
   "metadata": {
    "scrolled": false
   },
   "outputs": [
    {
     "name": "stdout",
     "output_type": "stream",
     "text": [
      "train_df Shape: (243787, 21)\n"
     ]
    }
   ],
   "source": [
    "train_df = pd.read_csv(\"train.csv\")\n",
    "print('train_df Shape:', train_df.shape)\n",
    "# train_df.head()"
   ]
  },
  {
   "cell_type": "code",
   "execution_count": 68,
   "metadata": {},
   "outputs": [
    {
     "name": "stdout",
     "output_type": "stream",
     "text": [
      "test_df Shape: (104480, 20)\n"
     ]
    }
   ],
   "source": [
    "test_df = pd.read_csv(\"test.csv\")\n",
    "print('test_df Shape:', test_df.shape)\n",
    "# test_df.head()"
   ]
  },
  {
   "cell_type": "markdown",
   "metadata": {},
   "source": [
    "## Explore, Clean, Validate, and Visualize the Data (optional)\n",
    "\n",
    "\n",
    "\n",
    "Feel free to explore, clean, validate, and visualize the data however you see fit for this competition to help determine or optimize your predictive model. Please note - the final autograding will only be on the accuracy of the `prediction_df` predictions."
   ]
  },
  {
   "cell_type": "code",
   "execution_count": null,
   "metadata": {},
   "outputs": [],
   "source": [
    "# your code here (optional)"
   ]
  },
  {
   "cell_type": "markdown",
   "metadata": {},
   "source": [
    "## Make predictions (required)\n",
    "\n",
    "Remember you should create a dataframe named `prediction_df` with exactly 104,480 entries plus a header row attempting to predict the likelihood of churn for subscriptions in `test_df`. Your submission will throw an error if you have extra columns (beyond `CustomerID` and `predicted_probaility`) or extra rows.\n",
    "\n",
    "The file should have exactly 2 columns:\n",
    "`CustomerID` (sorted in any order)\n",
    "`predicted_probability` (contains your numeric predicted probabilities between 0 and 1, e.g. from `estimator.predict_proba(X, y)[:, 1]`)\n",
    "\n",
    "The naming convention of the dataframe and columns are critical for our autograding, so please make sure to use the exact naming conventions of `prediction_df` with column names `CustomerID` and `predicted_probability`!"
   ]
  },
  {
   "cell_type": "markdown",
   "metadata": {},
   "source": [
    "### Example prediction submission:\n",
    "\n",
    "The code below is a very naive prediction method that simply predicts churn using a Dummy Classifier. This is used as just an example showing the submission format required. Please change/alter/delete this code below and create your own improved prediction methods for generating `prediction_df`."
   ]
  },
  {
   "cell_type": "code",
   "execution_count": 47,
   "metadata": {},
   "outputs": [],
   "source": [
    "def print_unique_col_values(df):\n",
    "       for column in df:\n",
    "#             if df[column].dtypes=='object':\n",
    "                print(f'{column}: {df[column].unique()}')"
   ]
  },
  {
   "cell_type": "code",
   "execution_count": null,
   "metadata": {},
   "outputs": [],
   "source": [
    "print_unique_col_values(train_df)"
   ]
  },
  {
   "cell_type": "code",
   "execution_count": 69,
   "metadata": {},
   "outputs": [],
   "source": [
    "yes_no_columns = ['PaperlessBilling','MultiDeviceAccess','ParentalControl','SubtitlesEnabled']\n",
    "\n",
    "\n",
    "for col in yes_no_columns:\n",
    "    train_df[col].replace({'Yes': 1,'No': 0},inplace=True)\n",
    "    test_df[col].replace({'Yes': 1,'No': 0},inplace=True)"
   ]
  },
  {
   "cell_type": "code",
   "execution_count": 70,
   "metadata": {},
   "outputs": [],
   "source": [
    "train_df['Gender'].replace({'Female':1,'Male':0},inplace=True)\n",
    "test_df['Gender'].replace({'Female':1,'Male':0},inplace=True)\n"
   ]
  },
  {
   "cell_type": "markdown",
   "metadata": {},
   "source": [
    "**One hot encoding for categorical columns**\n"
   ]
  },
  {
   "cell_type": "code",
   "execution_count": 71,
   "metadata": {},
   "outputs": [],
   "source": [
    "df_train = pd.get_dummies(data=train_df, columns=['SubscriptionType','PaymentMethod','ContentType','DeviceRegistered','GenrePreference'])\n",
    "df_test = pd.get_dummies(data=test_df, columns=['SubscriptionType','PaymentMethod','ContentType','DeviceRegistered','GenrePreference'])"
   ]
  },
  {
   "cell_type": "code",
   "execution_count": 72,
   "metadata": {},
   "outputs": [],
   "source": [
    "df_train.drop('CustomerID',axis='columns',inplace=True)\n",
    "df_test.drop('CustomerID',axis='columns',inplace=True)"
   ]
  },
  {
   "cell_type": "code",
   "execution_count": null,
   "metadata": {},
   "outputs": [],
   "source": [
    "print_unique_col_values(df_test)"
   ]
  },
  {
   "cell_type": "code",
   "execution_count": 73,
   "metadata": {},
   "outputs": [],
   "source": [
    "cols_to_scale = ['AccountAge','MonthlyCharges','TotalCharges','ViewingHoursPerWeek','AverageViewingDuration','ContentDownloadsPerMonth',\n",
    "                'UserRating','SupportTicketsPerMonth','WatchlistSize']\n",
    "\n",
    "from sklearn.preprocessing import MinMaxScaler\n",
    "scaler = MinMaxScaler()\n",
    "df_train[cols_to_scale] = scaler.fit_transform(df_train[cols_to_scale])\n",
    "df_test[cols_to_scale] = scaler.fit_transform(df_test[cols_to_scale])"
   ]
  },
  {
   "cell_type": "code",
   "execution_count": null,
   "metadata": {},
   "outputs": [],
   "source": [
    "df_train.shape"
   ]
  },
  {
   "cell_type": "code",
   "execution_count": 74,
   "metadata": {},
   "outputs": [],
   "source": [
    "X_train  = df_train.drop('Churn',axis='columns')\n",
    "y_train  = df_train['Churn']\n",
    "X_test = df_test"
   ]
  },
  {
   "cell_type": "code",
   "execution_count": 75,
   "metadata": {},
   "outputs": [],
   "source": [
    "from sklearn.model_selection import train_test_split\n",
    "# X_train, X_test, y_train, y_test = train_test_split(X,y,test_size=0.2,random_state=5)\n",
    "# Split the training data into train and validation sets\n",
    "X_train, X_val, y_train, y_val = train_test_split(X_train, y_train, test_size=0.2, random_state=42)"
   ]
  },
  {
   "cell_type": "code",
   "execution_count": null,
   "metadata": {},
   "outputs": [],
   "source": [
    "pip install tensorflow"
   ]
  },
  {
   "cell_type": "code",
   "execution_count": null,
   "metadata": {},
   "outputs": [],
   "source": [
    "pip install --upgrade numpy\n"
   ]
  },
  {
   "cell_type": "markdown",
   "metadata": {},
   "source": [
    "**PLEASE CHANGE CODE BELOW TO IMPLEMENT YOUR OWN PREDICTIONS**"
   ]
  },
  {
   "cell_type": "code",
   "execution_count": 77,
   "metadata": {},
   "outputs": [
    {
     "name": "stdout",
     "output_type": "stream",
     "text": [
      "Epoch 1/100\n",
      "3048/3048 [==============================] - 7s 2ms/step - loss: 0.4208 - accuracy: 0.8221 - val_loss: 0.4128 - val_accuracy: 0.8238\n",
      "Epoch 2/100\n",
      "3048/3048 [==============================] - 7s 2ms/step - loss: 0.4137 - accuracy: 0.8233 - val_loss: 0.4096 - val_accuracy: 0.8255\n",
      "Epoch 3/100\n",
      "3048/3048 [==============================] - 6s 2ms/step - loss: 0.4135 - accuracy: 0.8236 - val_loss: 0.4096 - val_accuracy: 0.8248\n",
      "Epoch 4/100\n",
      "3048/3048 [==============================] - 7s 2ms/step - loss: 0.4133 - accuracy: 0.8236 - val_loss: 0.4092 - val_accuracy: 0.8251\n",
      "Epoch 5/100\n",
      "3048/3048 [==============================] - 6s 2ms/step - loss: 0.4132 - accuracy: 0.8238 - val_loss: 0.4096 - val_accuracy: 0.8249\n",
      "Epoch 6/100\n",
      "3048/3048 [==============================] - 6s 2ms/step - loss: 0.4129 - accuracy: 0.8240 - val_loss: 0.4098 - val_accuracy: 0.8247\n",
      "Epoch 7/100\n",
      "3048/3048 [==============================] - 6s 2ms/step - loss: 0.4128 - accuracy: 0.8238 - val_loss: 0.4092 - val_accuracy: 0.8247\n",
      "Epoch 8/100\n",
      "3048/3048 [==============================] - 6s 2ms/step - loss: 0.4128 - accuracy: 0.8238 - val_loss: 0.4092 - val_accuracy: 0.8251\n",
      "Epoch 9/100\n",
      "3048/3048 [==============================] - 6s 2ms/step - loss: 0.4125 - accuracy: 0.8240 - val_loss: 0.4098 - val_accuracy: 0.8251\n",
      "Epoch 10/100\n",
      "3048/3048 [==============================] - 6s 2ms/step - loss: 0.4125 - accuracy: 0.8239 - val_loss: 0.4100 - val_accuracy: 0.8248\n",
      "Epoch 11/100\n",
      "3048/3048 [==============================] - 6s 2ms/step - loss: 0.4124 - accuracy: 0.8240 - val_loss: 0.4094 - val_accuracy: 0.8254\n",
      "Epoch 12/100\n",
      "3048/3048 [==============================] - 6s 2ms/step - loss: 0.4122 - accuracy: 0.8241 - val_loss: 0.4104 - val_accuracy: 0.8247\n",
      "Epoch 13/100\n",
      "3048/3048 [==============================] - 7s 2ms/step - loss: 0.4122 - accuracy: 0.8239 - val_loss: 0.4093 - val_accuracy: 0.8249\n",
      "Epoch 14/100\n",
      "3048/3048 [==============================] - 7s 2ms/step - loss: 0.4121 - accuracy: 0.8240 - val_loss: 0.4092 - val_accuracy: 0.8246\n",
      "Epoch 15/100\n",
      "3048/3048 [==============================] - 7s 2ms/step - loss: 0.4121 - accuracy: 0.8241 - val_loss: 0.4116 - val_accuracy: 0.8250\n",
      "Epoch 16/100\n",
      "3048/3048 [==============================] - 6s 2ms/step - loss: 0.4119 - accuracy: 0.8242 - val_loss: 0.4096 - val_accuracy: 0.8247\n",
      "Epoch 17/100\n",
      "3048/3048 [==============================] - 7s 2ms/step - loss: 0.4120 - accuracy: 0.8242 - val_loss: 0.4095 - val_accuracy: 0.8247\n",
      "Epoch 18/100\n",
      "3048/3048 [==============================] - 6s 2ms/step - loss: 0.4119 - accuracy: 0.8240 - val_loss: 0.4094 - val_accuracy: 0.8247\n",
      "Epoch 19/100\n",
      "3048/3048 [==============================] - 6s 2ms/step - loss: 0.4118 - accuracy: 0.8242 - val_loss: 0.4098 - val_accuracy: 0.8245\n",
      "Epoch 20/100\n",
      "3048/3048 [==============================] - 6s 2ms/step - loss: 0.4117 - accuracy: 0.8244 - val_loss: 0.4103 - val_accuracy: 0.8244\n",
      "Epoch 21/100\n",
      "3048/3048 [==============================] - 6s 2ms/step - loss: 0.4118 - accuracy: 0.8241 - val_loss: 0.4095 - val_accuracy: 0.8248\n",
      "Epoch 22/100\n",
      "3048/3048 [==============================] - 7s 2ms/step - loss: 0.4117 - accuracy: 0.8240 - val_loss: 0.4100 - val_accuracy: 0.8246\n",
      "Epoch 23/100\n",
      "3048/3048 [==============================] - 6s 2ms/step - loss: 0.4117 - accuracy: 0.8243 - val_loss: 0.4096 - val_accuracy: 0.8247\n",
      "Epoch 24/100\n",
      "3048/3048 [==============================] - 6s 2ms/step - loss: 0.4115 - accuracy: 0.8245 - val_loss: 0.4095 - val_accuracy: 0.8246\n",
      "Epoch 25/100\n",
      "3048/3048 [==============================] - 6s 2ms/step - loss: 0.4116 - accuracy: 0.8241 - val_loss: 0.4096 - val_accuracy: 0.8246\n",
      "Epoch 26/100\n",
      "3048/3048 [==============================] - 6s 2ms/step - loss: 0.4116 - accuracy: 0.8242 - val_loss: 0.4100 - val_accuracy: 0.8243\n",
      "Epoch 27/100\n",
      "3048/3048 [==============================] - 6s 2ms/step - loss: 0.4115 - accuracy: 0.8242 - val_loss: 0.4098 - val_accuracy: 0.8243\n",
      "Epoch 28/100\n",
      "3048/3048 [==============================] - 6s 2ms/step - loss: 0.4115 - accuracy: 0.8240 - val_loss: 0.4100 - val_accuracy: 0.8244\n",
      "Epoch 29/100\n",
      "3048/3048 [==============================] - 7s 2ms/step - loss: 0.4114 - accuracy: 0.8243 - val_loss: 0.4098 - val_accuracy: 0.8246\n",
      "Epoch 30/100\n",
      "3048/3048 [==============================] - 6s 2ms/step - loss: 0.4114 - accuracy: 0.8244 - val_loss: 0.4097 - val_accuracy: 0.8241\n",
      "Epoch 31/100\n",
      "3048/3048 [==============================] - 7s 2ms/step - loss: 0.4114 - accuracy: 0.8241 - val_loss: 0.4099 - val_accuracy: 0.8243\n",
      "Epoch 32/100\n",
      "3048/3048 [==============================] - 6s 2ms/step - loss: 0.4114 - accuracy: 0.8242 - val_loss: 0.4097 - val_accuracy: 0.8245\n",
      "Epoch 33/100\n",
      "3048/3048 [==============================] - 7s 2ms/step - loss: 0.4113 - accuracy: 0.8246 - val_loss: 0.4096 - val_accuracy: 0.8241\n",
      "Epoch 34/100\n",
      "3048/3048 [==============================] - 6s 2ms/step - loss: 0.4114 - accuracy: 0.8243 - val_loss: 0.4107 - val_accuracy: 0.8240\n",
      "Epoch 35/100\n",
      "3048/3048 [==============================] - 6s 2ms/step - loss: 0.4114 - accuracy: 0.8243 - val_loss: 0.4103 - val_accuracy: 0.8238\n",
      "Epoch 36/100\n",
      "3048/3048 [==============================] - 7s 2ms/step - loss: 0.4112 - accuracy: 0.8242 - val_loss: 0.4099 - val_accuracy: 0.8243\n",
      "Epoch 37/100\n",
      "3048/3048 [==============================] - 7s 2ms/step - loss: 0.4113 - accuracy: 0.8243 - val_loss: 0.4096 - val_accuracy: 0.8245\n",
      "Epoch 38/100\n",
      "3048/3048 [==============================] - 7s 2ms/step - loss: 0.4112 - accuracy: 0.8243 - val_loss: 0.4106 - val_accuracy: 0.8240\n",
      "Epoch 39/100\n",
      "3048/3048 [==============================] - 6s 2ms/step - loss: 0.4112 - accuracy: 0.8241 - val_loss: 0.4104 - val_accuracy: 0.8240\n",
      "Epoch 40/100\n",
      "3048/3048 [==============================] - 7s 2ms/step - loss: 0.4112 - accuracy: 0.8240 - val_loss: 0.4105 - val_accuracy: 0.8238\n",
      "Epoch 41/100\n",
      "3048/3048 [==============================] - 7s 2ms/step - loss: 0.4111 - accuracy: 0.8245 - val_loss: 0.4100 - val_accuracy: 0.8246\n",
      "Epoch 42/100\n",
      "3048/3048 [==============================] - 7s 2ms/step - loss: 0.4112 - accuracy: 0.8244 - val_loss: 0.4102 - val_accuracy: 0.8242\n",
      "Epoch 43/100\n",
      "3048/3048 [==============================] - 7s 2ms/step - loss: 0.4111 - accuracy: 0.8242 - val_loss: 0.4100 - val_accuracy: 0.8239\n",
      "Epoch 44/100\n",
      "3048/3048 [==============================] - 6s 2ms/step - loss: 0.4111 - accuracy: 0.8242 - val_loss: 0.4098 - val_accuracy: 0.8245\n",
      "Epoch 45/100\n",
      "3048/3048 [==============================] - 6s 2ms/step - loss: 0.4111 - accuracy: 0.8243 - val_loss: 0.4102 - val_accuracy: 0.8241\n",
      "Epoch 46/100\n",
      "3048/3048 [==============================] - 7s 2ms/step - loss: 0.4110 - accuracy: 0.8244 - val_loss: 0.4099 - val_accuracy: 0.8245\n",
      "Epoch 47/100\n",
      "3048/3048 [==============================] - 6s 2ms/step - loss: 0.4110 - accuracy: 0.8244 - val_loss: 0.4107 - val_accuracy: 0.8246\n",
      "Epoch 48/100\n",
      "3048/3048 [==============================] - 7s 2ms/step - loss: 0.4110 - accuracy: 0.8243 - val_loss: 0.4107 - val_accuracy: 0.8237\n",
      "Epoch 49/100\n",
      "3048/3048 [==============================] - 6s 2ms/step - loss: 0.4109 - accuracy: 0.8243 - val_loss: 0.4137 - val_accuracy: 0.8230\n",
      "Epoch 50/100\n",
      "3048/3048 [==============================] - 7s 2ms/step - loss: 0.4109 - accuracy: 0.8245 - val_loss: 0.4110 - val_accuracy: 0.8237\n",
      "Epoch 51/100\n",
      "3048/3048 [==============================] - 6s 2ms/step - loss: 0.4109 - accuracy: 0.8245 - val_loss: 0.4101 - val_accuracy: 0.8242\n",
      "Epoch 52/100\n",
      "3048/3048 [==============================] - 7s 2ms/step - loss: 0.4109 - accuracy: 0.8243 - val_loss: 0.4104 - val_accuracy: 0.8242\n",
      "Epoch 53/100\n",
      "3048/3048 [==============================] - 6s 2ms/step - loss: 0.4109 - accuracy: 0.8243 - val_loss: 0.4101 - val_accuracy: 0.8237\n",
      "Epoch 54/100\n",
      "3048/3048 [==============================] - 7s 2ms/step - loss: 0.4109 - accuracy: 0.8243 - val_loss: 0.4098 - val_accuracy: 0.8245\n",
      "Epoch 55/100\n",
      "3048/3048 [==============================] - 7s 2ms/step - loss: 0.4109 - accuracy: 0.8245 - val_loss: 0.4105 - val_accuracy: 0.8238\n",
      "Epoch 56/100\n",
      "3048/3048 [==============================] - 6s 2ms/step - loss: 0.4108 - accuracy: 0.8241 - val_loss: 0.4104 - val_accuracy: 0.8237\n",
      "Epoch 57/100\n",
      "3048/3048 [==============================] - 7s 2ms/step - loss: 0.4109 - accuracy: 0.8244 - val_loss: 0.4103 - val_accuracy: 0.8244\n",
      "Epoch 58/100\n",
      "3048/3048 [==============================] - 6s 2ms/step - loss: 0.4108 - accuracy: 0.8241 - val_loss: 0.4102 - val_accuracy: 0.8243\n",
      "Epoch 59/100\n",
      "3048/3048 [==============================] - 7s 2ms/step - loss: 0.4107 - accuracy: 0.8243 - val_loss: 0.4101 - val_accuracy: 0.8238\n",
      "Epoch 60/100\n",
      "3048/3048 [==============================] - 6s 2ms/step - loss: 0.4108 - accuracy: 0.8243 - val_loss: 0.4101 - val_accuracy: 0.8240\n",
      "Epoch 61/100\n",
      "3048/3048 [==============================] - 7s 2ms/step - loss: 0.4107 - accuracy: 0.8243 - val_loss: 0.4102 - val_accuracy: 0.8242\n",
      "Epoch 62/100\n",
      "3048/3048 [==============================] - 7s 2ms/step - loss: 0.4108 - accuracy: 0.8241 - val_loss: 0.4104 - val_accuracy: 0.8237\n",
      "Epoch 63/100\n",
      "3048/3048 [==============================] - 7s 2ms/step - loss: 0.4108 - accuracy: 0.8242 - val_loss: 0.4102 - val_accuracy: 0.8245\n",
      "Epoch 64/100\n",
      "3048/3048 [==============================] - 7s 2ms/step - loss: 0.4107 - accuracy: 0.8243 - val_loss: 0.4129 - val_accuracy: 0.8225\n",
      "Epoch 65/100\n",
      "3048/3048 [==============================] - 7s 2ms/step - loss: 0.4107 - accuracy: 0.8244 - val_loss: 0.4108 - val_accuracy: 0.8245\n",
      "Epoch 66/100\n",
      "3048/3048 [==============================] - 7s 2ms/step - loss: 0.4108 - accuracy: 0.8242 - val_loss: 0.4103 - val_accuracy: 0.8244\n",
      "Epoch 67/100\n",
      "3048/3048 [==============================] - 7s 2ms/step - loss: 0.4107 - accuracy: 0.8239 - val_loss: 0.4101 - val_accuracy: 0.8241\n",
      "Epoch 68/100\n",
      "3048/3048 [==============================] - 6s 2ms/step - loss: 0.4107 - accuracy: 0.8245 - val_loss: 0.4109 - val_accuracy: 0.8238\n",
      "Epoch 69/100\n",
      "3048/3048 [==============================] - 6s 2ms/step - loss: 0.4107 - accuracy: 0.8242 - val_loss: 0.4105 - val_accuracy: 0.8243\n",
      "Epoch 70/100\n",
      "3048/3048 [==============================] - 6s 2ms/step - loss: 0.4107 - accuracy: 0.8243 - val_loss: 0.4107 - val_accuracy: 0.8241\n",
      "Epoch 71/100\n",
      "3048/3048 [==============================] - 7s 2ms/step - loss: 0.4108 - accuracy: 0.8243 - val_loss: 0.4117 - val_accuracy: 0.8238\n",
      "Epoch 72/100\n",
      "3048/3048 [==============================] - 7s 2ms/step - loss: 0.4106 - accuracy: 0.8243 - val_loss: 0.4105 - val_accuracy: 0.8239\n",
      "Epoch 73/100\n",
      "3048/3048 [==============================] - 7s 2ms/step - loss: 0.4108 - accuracy: 0.8245 - val_loss: 0.4103 - val_accuracy: 0.8242\n",
      "Epoch 74/100\n",
      "3048/3048 [==============================] - 6s 2ms/step - loss: 0.4106 - accuracy: 0.8245 - val_loss: 0.4106 - val_accuracy: 0.8242\n",
      "Epoch 75/100\n",
      "3048/3048 [==============================] - 7s 2ms/step - loss: 0.4106 - accuracy: 0.8243 - val_loss: 0.4118 - val_accuracy: 0.8236\n",
      "Epoch 76/100\n",
      "3048/3048 [==============================] - 7s 2ms/step - loss: 0.4106 - accuracy: 0.8246 - val_loss: 0.4106 - val_accuracy: 0.8241\n",
      "Epoch 77/100\n",
      "3048/3048 [==============================] - 7s 2ms/step - loss: 0.4106 - accuracy: 0.8244 - val_loss: 0.4114 - val_accuracy: 0.8236\n",
      "Epoch 78/100\n",
      "3048/3048 [==============================] - 6s 2ms/step - loss: 0.4107 - accuracy: 0.8244 - val_loss: 0.4104 - val_accuracy: 0.8238\n",
      "Epoch 79/100\n",
      "3048/3048 [==============================] - 6s 2ms/step - loss: 0.4106 - accuracy: 0.8243 - val_loss: 0.4104 - val_accuracy: 0.8238\n",
      "Epoch 80/100\n",
      "3048/3048 [==============================] - 7s 2ms/step - loss: 0.4108 - accuracy: 0.8244 - val_loss: 0.4108 - val_accuracy: 0.8240\n",
      "Epoch 81/100\n",
      "3048/3048 [==============================] - 6s 2ms/step - loss: 0.4104 - accuracy: 0.8244 - val_loss: 0.4108 - val_accuracy: 0.8245\n",
      "Epoch 82/100\n",
      "3048/3048 [==============================] - 7s 2ms/step - loss: 0.4106 - accuracy: 0.8244 - val_loss: 0.4107 - val_accuracy: 0.8239\n",
      "Epoch 83/100\n",
      "3048/3048 [==============================] - 7s 2ms/step - loss: 0.4105 - accuracy: 0.8245 - val_loss: 0.4104 - val_accuracy: 0.8245\n",
      "Epoch 84/100\n",
      "3048/3048 [==============================] - 7s 2ms/step - loss: 0.4106 - accuracy: 0.8245 - val_loss: 0.4104 - val_accuracy: 0.8243\n",
      "Epoch 85/100\n",
      "3048/3048 [==============================] - 7s 2ms/step - loss: 0.4105 - accuracy: 0.8245 - val_loss: 0.4110 - val_accuracy: 0.8237\n",
      "Epoch 86/100\n",
      "3048/3048 [==============================] - 7s 2ms/step - loss: 0.4105 - accuracy: 0.8245 - val_loss: 0.4106 - val_accuracy: 0.8239\n",
      "Epoch 87/100\n",
      "3048/3048 [==============================] - 7s 2ms/step - loss: 0.4105 - accuracy: 0.8243 - val_loss: 0.4115 - val_accuracy: 0.8239\n",
      "Epoch 88/100\n",
      "3048/3048 [==============================] - 7s 2ms/step - loss: 0.4104 - accuracy: 0.8242 - val_loss: 0.4111 - val_accuracy: 0.8243\n",
      "Epoch 89/100\n",
      "3048/3048 [==============================] - 8s 3ms/step - loss: 0.4105 - accuracy: 0.8246 - val_loss: 0.4111 - val_accuracy: 0.8241\n",
      "Epoch 90/100\n",
      "3048/3048 [==============================] - 7s 2ms/step - loss: 0.4106 - accuracy: 0.8244 - val_loss: 0.4104 - val_accuracy: 0.8237\n",
      "Epoch 91/100\n",
      "3048/3048 [==============================] - 7s 2ms/step - loss: 0.4105 - accuracy: 0.8246 - val_loss: 0.4111 - val_accuracy: 0.8240\n",
      "Epoch 92/100\n",
      "3048/3048 [==============================] - 7s 2ms/step - loss: 0.4105 - accuracy: 0.8245 - val_loss: 0.4112 - val_accuracy: 0.8237\n",
      "Epoch 93/100\n",
      "3048/3048 [==============================] - 7s 2ms/step - loss: 0.4104 - accuracy: 0.8245 - val_loss: 0.4109 - val_accuracy: 0.8240\n",
      "Epoch 94/100\n",
      "3048/3048 [==============================] - 7s 2ms/step - loss: 0.4105 - accuracy: 0.8242 - val_loss: 0.4122 - val_accuracy: 0.8239\n",
      "Epoch 95/100\n",
      "3048/3048 [==============================] - 7s 2ms/step - loss: 0.4105 - accuracy: 0.8243 - val_loss: 0.4111 - val_accuracy: 0.8240\n",
      "Epoch 96/100\n",
      "3048/3048 [==============================] - 7s 2ms/step - loss: 0.4104 - accuracy: 0.8244 - val_loss: 0.4118 - val_accuracy: 0.8238\n",
      "Epoch 97/100\n",
      "3048/3048 [==============================] - 7s 2ms/step - loss: 0.4104 - accuracy: 0.8244 - val_loss: 0.4105 - val_accuracy: 0.8240\n",
      "Epoch 98/100\n",
      "3048/3048 [==============================] - 7s 2ms/step - loss: 0.4104 - accuracy: 0.8248 - val_loss: 0.4109 - val_accuracy: 0.8238\n",
      "Epoch 99/100\n",
      "3048/3048 [==============================] - 8s 2ms/step - loss: 0.4104 - accuracy: 0.8244 - val_loss: 0.4107 - val_accuracy: 0.8238\n",
      "Epoch 100/100\n",
      "3048/3048 [==============================] - 7s 2ms/step - loss: 0.4104 - accuracy: 0.8244 - val_loss: 0.4114 - val_accuracy: 0.8238\n"
     ]
    },
    {
     "data": {
      "text/plain": [
       "<keras.callbacks.History at 0x7f28dc5d7ad0>"
      ]
     },
     "execution_count": 77,
     "metadata": {},
     "output_type": "execute_result"
    }
   ],
   "source": [
    "### PLEASE CHANGE THIS CODE TO IMPLEMENT YOUR OWN PREDICTIONS\n",
    "\n",
    "import tensorflow as tf\n",
    "from tensorflow import keras\n",
    "\n",
    "model = keras.Sequential([\n",
    "    keras.layers.Dense(27, input_shape=(33,), activation='relu'),\n",
    "#     keras.layers.Dense(22, activation='relu'),\n",
    "    keras.layers.Dense(1, activation='sigmoid')\n",
    "])\n",
    "\n",
    "model.compile(optimizer='adam',\n",
    "              loss='binary_crossentropy',\n",
    "              metrics=['accuracy'])\n",
    "\n",
    "# Train the Model\n",
    "epochs = 100\n",
    "batch_size = 64\n",
    "\n",
    "model.fit(X_train, y_train, epochs=epochs, batch_size=batch_size, validation_data=(X_val, y_val))"
   ]
  },
  {
   "cell_type": "markdown",
   "metadata": {},
   "source": [
    "# *Correlation_matrix Analysis*"
   ]
  },
  {
   "cell_type": "code",
   "execution_count": 84,
   "metadata": {},
   "outputs": [
    {
     "data": {
      "image/png": "[encoded data removed]",
      "text/plain": [
       "<Figure size 864x576 with 2 Axes>"
      ]
     },
     "metadata": {
      "needs_background": "light"
     },
     "output_type": "display_data"
    }
   ],
   "source": [
    "correlation_matrix = train_df.corr()\n",
    "import matplotlib.pyplot as plt\n",
    "import seaborn as sns\n",
    "\n",
    "plt.figure(figsize=(12, 8))\n",
    "sns.heatmap(correlation_matrix, annot=True, cmap='coolwarm', fmt=\".2f\")\n",
    "plt.title(\"Correlation Matrix\")\n",
    "plt.show()\n"
   ]
  },
  {
   "cell_type": "code",
   "execution_count": 89,
   "metadata": {},
   "outputs": [],
   "source": [
    "import pandas as pd\n",
    "from sklearn.feature_selection import SelectKBest\n",
    "from sklearn.feature_selection import chi2\n",
    "\n",
    "# Initialize the SelectKBest object with the chi2 test as the scoring function\n",
    "k_best = SelectKBest(score_func=chi2, k=10)  # You can adjust the value of 'k' as needed\n",
    "\n",
    "\n",
    "# Fit the SelectKBest object on your training data\n",
    "k_best.fit(X_train, y_train)\n",
    "\n",
    "# Get the indices of the selected features\n",
    "selected_feature_indices = k_best.get_support(indices=True)\n",
    "\n",
    "# Select the corresponding columns from your data\n",
    "X_train_selected = X_train.iloc[:, selected_feature_indices]\n",
    "X_val_selected = X_val.iloc[:, selected_feature_indices]"
   ]
  },
  {
   "cell_type": "code",
   "execution_count": 91,
   "metadata": {},
   "outputs": [
    {
     "name": "stdout",
     "output_type": "stream",
     "text": [
      "Epoch 1/5\n",
      "3048/3048 [==============================] - 7s 2ms/step - loss: 0.4218 - accuracy: 0.8201 - val_loss: 0.4113 - val_accuracy: 0.8242\n",
      "Epoch 2/5\n",
      "3048/3048 [==============================] - 6s 2ms/step - loss: 0.4140 - accuracy: 0.8236 - val_loss: 0.4105 - val_accuracy: 0.8250\n",
      "Epoch 3/5\n",
      "3048/3048 [==============================] - 7s 2ms/step - loss: 0.4140 - accuracy: 0.8234 - val_loss: 0.4103 - val_accuracy: 0.8251\n",
      "Epoch 4/5\n",
      "3048/3048 [==============================] - 7s 2ms/step - loss: 0.4138 - accuracy: 0.8233 - val_loss: 0.4103 - val_accuracy: 0.8250\n",
      "Epoch 5/5\n",
      "3048/3048 [==============================] - 6s 2ms/step - loss: 0.4138 - accuracy: 0.8234 - val_loss: 0.4102 - val_accuracy: 0.8249\n"
     ]
    },
    {
     "data": {
      "text/plain": [
       "<keras.callbacks.History at 0x7f298b85ce90>"
      ]
     },
     "execution_count": 91,
     "metadata": {},
     "output_type": "execute_result"
    }
   ],
   "source": [
    "import tensorflow as tf\n",
    "from tensorflow import keras\n",
    "\n",
    "# Create a new model with an input shape that matches the number of selected features (10)\n",
    "model = keras.Sequential([\n",
    "    keras.layers.Dense(27, input_shape=(10,), activation='relu'),  # Update the input shape to (10,)\n",
    "    keras.layers.Dense(1, activation='sigmoid')\n",
    "])\n",
    "\n",
    "model.compile(optimizer='adam',\n",
    "              loss='binary_crossentropy',\n",
    "              metrics=['accuracy'])\n",
    "\n",
    "# Train the Model\n",
    "epochs = 5\n",
    "batch_size = 64\n",
    "\n",
    "model.fit(X_train_selected, y_train, epochs=epochs, batch_size=batch_size, validation_data=(X_val_selected, y_val))"
   ]
  },
  {
   "cell_type": "code",
   "execution_count": 93,
   "metadata": {},
   "outputs": [
    {
     "name": "stdout",
     "output_type": "stream",
     "text": [
      "1524/1524 [==============================] - 2s 1ms/step - loss: 0.4102 - accuracy: 0.8249\n",
      "Loss: 0.41\n",
      "Accuracy: 0.82\n"
     ]
    }
   ],
   "source": [
    "evaluation = model.evaluate(X_val_selected, y_val)\n",
    "# Extract the evaluation results\n",
    "loss = evaluation[0]\n",
    "accuracy = evaluation[1]\n",
    "\n",
    "print(f'Loss: {loss:.2f}')\n",
    "print(f'Accuracy: {accuracy:.2f}')"
   ]
  },
  {
   "cell_type": "code",
   "execution_count": 97,
   "metadata": {},
   "outputs": [
    {
     "name": "stdout",
     "output_type": "stream",
     "text": [
      "Validation Accuracy: 0.8241109151318758\n"
     ]
    },
    {
     "ename": "KeyError",
     "evalue": "\"['DeviceRegistered_Computer', 'DeviceRegistered_Mobile', 'DeviceRegistered_Tablet'] not in index\"",
     "output_type": "error",
     "traceback": [
      "\u001b[0;31m---------------------------------------------------------------------------\u001b[0m",
      "\u001b[0;31mKeyError\u001b[0m                                  Traceback (most recent call last)",
      "\u001b[0;32m<ipython-input-97-82d1411af58e>\u001b[0m in \u001b[0;36m<module>\u001b[0;34m\u001b[0m\n\u001b[1;32m     40\u001b[0m \u001b[0;34m\u001b[0m\u001b[0m\n\u001b[1;32m     41\u001b[0m \u001b[0;31m# Apply the same feature selection to the test data if needed\u001b[0m\u001b[0;34m\u001b[0m\u001b[0;34m\u001b[0m\u001b[0;34m\u001b[0m\u001b[0m\n\u001b[0;32m---> 42\u001b[0;31m \u001b[0mX_test_selected\u001b[0m \u001b[0;34m=\u001b[0m \u001b[0mtest_df\u001b[0m\u001b[0;34m[\u001b[0m\u001b[0mselected_features\u001b[0m\u001b[0;34m]\u001b[0m\u001b[0;34m\u001b[0m\u001b[0;34m\u001b[0m\u001b[0m\n\u001b[0m",
      "\u001b[0;32m/opt/conda/lib/python3.7/site-packages/pandas/core/frame.py\u001b[0m in \u001b[0;36m__getitem__\u001b[0;34m(self, key)\u001b[0m\n\u001b[1;32m   2804\u001b[0m             \u001b[0;32mif\u001b[0m \u001b[0mis_iterator\u001b[0m\u001b[0;34m(\u001b[0m\u001b[0mkey\u001b[0m\u001b[0;34m)\u001b[0m\u001b[0;34m:\u001b[0m\u001b[0;34m\u001b[0m\u001b[0;34m\u001b[0m\u001b[0m\n\u001b[1;32m   2805\u001b[0m                 \u001b[0mkey\u001b[0m \u001b[0;34m=\u001b[0m \u001b[0mlist\u001b[0m\u001b[0;34m(\u001b[0m\u001b[0mkey\u001b[0m\u001b[0;34m)\u001b[0m\u001b[0;34m\u001b[0m\u001b[0;34m\u001b[0m\u001b[0m\n\u001b[0;32m-> 2806\u001b[0;31m             \u001b[0mindexer\u001b[0m \u001b[0;34m=\u001b[0m \u001b[0mself\u001b[0m\u001b[0;34m.\u001b[0m\u001b[0mloc\u001b[0m\u001b[0;34m.\u001b[0m\u001b[0m_get_listlike_indexer\u001b[0m\u001b[0;34m(\u001b[0m\u001b[0mkey\u001b[0m\u001b[0;34m,\u001b[0m \u001b[0maxis\u001b[0m\u001b[0;34m=\u001b[0m\u001b[0;36m1\u001b[0m\u001b[0;34m,\u001b[0m \u001b[0mraise_missing\u001b[0m\u001b[0;34m=\u001b[0m\u001b[0;32mTrue\u001b[0m\u001b[0;34m)\u001b[0m\u001b[0;34m[\u001b[0m\u001b[0;36m1\u001b[0m\u001b[0;34m]\u001b[0m\u001b[0;34m\u001b[0m\u001b[0;34m\u001b[0m\u001b[0m\n\u001b[0m\u001b[1;32m   2807\u001b[0m \u001b[0;34m\u001b[0m\u001b[0m\n\u001b[1;32m   2808\u001b[0m         \u001b[0;31m# take() does not accept boolean indexers\u001b[0m\u001b[0;34m\u001b[0m\u001b[0;34m\u001b[0m\u001b[0;34m\u001b[0m\u001b[0m\n",
      "\u001b[0;32m/opt/conda/lib/python3.7/site-packages/pandas/core/indexing.py\u001b[0m in \u001b[0;36m_get_listlike_indexer\u001b[0;34m(self, key, axis, raise_missing)\u001b[0m\n\u001b[1;32m   1551\u001b[0m \u001b[0;34m\u001b[0m\u001b[0m\n\u001b[1;32m   1552\u001b[0m         self._validate_read_indexer(\n\u001b[0;32m-> 1553\u001b[0;31m             \u001b[0mkeyarr\u001b[0m\u001b[0;34m,\u001b[0m \u001b[0mindexer\u001b[0m\u001b[0;34m,\u001b[0m \u001b[0mo\u001b[0m\u001b[0;34m.\u001b[0m\u001b[0m_get_axis_number\u001b[0m\u001b[0;34m(\u001b[0m\u001b[0maxis\u001b[0m\u001b[0;34m)\u001b[0m\u001b[0;34m,\u001b[0m \u001b[0mraise_missing\u001b[0m\u001b[0;34m=\u001b[0m\u001b[0mraise_missing\u001b[0m\u001b[0;34m\u001b[0m\u001b[0;34m\u001b[0m\u001b[0m\n\u001b[0m\u001b[1;32m   1554\u001b[0m         )\n\u001b[1;32m   1555\u001b[0m         \u001b[0;32mreturn\u001b[0m \u001b[0mkeyarr\u001b[0m\u001b[0;34m,\u001b[0m \u001b[0mindexer\u001b[0m\u001b[0;34m\u001b[0m\u001b[0;34m\u001b[0m\u001b[0m\n",
      "\u001b[0;32m/opt/conda/lib/python3.7/site-packages/pandas/core/indexing.py\u001b[0m in \u001b[0;36m_validate_read_indexer\u001b[0;34m(self, key, indexer, axis, raise_missing)\u001b[0m\n\u001b[1;32m   1644\u001b[0m             \u001b[0;32mif\u001b[0m \u001b[0;32mnot\u001b[0m \u001b[0;34m(\u001b[0m\u001b[0mself\u001b[0m\u001b[0;34m.\u001b[0m\u001b[0mname\u001b[0m \u001b[0;34m==\u001b[0m \u001b[0;34m\"loc\"\u001b[0m \u001b[0;32mand\u001b[0m \u001b[0;32mnot\u001b[0m \u001b[0mraise_missing\u001b[0m\u001b[0;34m)\u001b[0m\u001b[0;34m:\u001b[0m\u001b[0;34m\u001b[0m\u001b[0;34m\u001b[0m\u001b[0m\n\u001b[1;32m   1645\u001b[0m                 \u001b[0mnot_found\u001b[0m \u001b[0;34m=\u001b[0m \u001b[0mlist\u001b[0m\u001b[0;34m(\u001b[0m\u001b[0mset\u001b[0m\u001b[0;34m(\u001b[0m\u001b[0mkey\u001b[0m\u001b[0;34m)\u001b[0m \u001b[0;34m-\u001b[0m \u001b[0mset\u001b[0m\u001b[0;34m(\u001b[0m\u001b[0max\u001b[0m\u001b[0;34m)\u001b[0m\u001b[0;34m)\u001b[0m\u001b[0;34m\u001b[0m\u001b[0;34m\u001b[0m\u001b[0m\n\u001b[0;32m-> 1646\u001b[0;31m                 \u001b[0;32mraise\u001b[0m \u001b[0mKeyError\u001b[0m\u001b[0;34m(\u001b[0m\u001b[0;34mf\"{not_found} not in index\"\u001b[0m\u001b[0;34m)\u001b[0m\u001b[0;34m\u001b[0m\u001b[0;34m\u001b[0m\u001b[0m\n\u001b[0m\u001b[1;32m   1647\u001b[0m \u001b[0;34m\u001b[0m\u001b[0m\n\u001b[1;32m   1648\u001b[0m             \u001b[0;31m# we skip the warning on Categorical/Interval\u001b[0m\u001b[0;34m\u001b[0m\u001b[0;34m\u001b[0m\u001b[0;34m\u001b[0m\u001b[0m\n",
      "\u001b[0;31mKeyError\u001b[0m: \"['DeviceRegistered_Computer', 'DeviceRegistered_Mobile', 'DeviceRegistered_Tablet'] not in index\""
     ]
    }
   ],
   "source": [
    "import pandas as pd\n",
    "import numpy as np\n",
    "from sklearn.model_selection import train_test_split\n",
    "from sklearn.neural_network import MLPClassifier\n",
    "from sklearn.metrics import accuracy_score\n",
    "from sklearn.inspection import permutation_importance\n",
    "\n",
    "\n",
    "# Create an instance of the ANN classifier (you can adjust the architecture as needed)\n",
    "model = MLPClassifier(hidden_layer_sizes=(27,), activation='relu', max_iter=100, random_state=42)\n",
    "\n",
    "# Train the ANN model\n",
    "model.fit(X_train, y_train)\n",
    "\n",
    "# Evaluate the model on the validation set\n",
    "y_val_pred = model.predict(X_val)\n",
    "validation_accuracy = accuracy_score(y_val, y_val_pred)\n",
    "print(f\"Validation Accuracy: {validation_accuracy}\")\n",
    "\n",
    "\n",
    "# Calculate permutation importances\n",
    "perm_importance = permutation_importance(model, X_val, y_val, n_repeats=30, random_state=42)\n",
    "\n",
    "# Get the feature importances\n",
    "feature_importances = perm_importance.importances_mean\n",
    "\n",
    "# Rank the features based on importance\n",
    "feature_ranking = np.argsort(-feature_importances)\n",
    "\n",
    "# Select the top N features (adjust N as needed)\n",
    "num_features_to_select = 10\n",
    "selected_features = X_train.columns[feature_ranking[:num_features_to_select]]\n",
    "\n",
    "# Now, you can use the selected features for training and testing your ANN model\n",
    "X_train_selected = X_train[selected_features]\n",
    "X_val_selected = X_val[selected_features]\n",
    "\n",
    "# Train your ANN model with the selected features\n",
    "model.fit(X_train_selected, y_train)\n",
    "\n",
    "# Apply the same feature selection to the test data if needed\n",
    "X_test_selected = test_df[selected_features]"
   ]
  },
  {
   "cell_type": "code",
   "execution_count": 56,
   "metadata": {},
   "outputs": [
    {
     "name": "stdout",
     "output_type": "stream",
     "text": [
      "1524/1524 [==============================] - 2s 1ms/step - loss: 0.4093 - accuracy: 0.8250\n",
      "3265/3265 [==============================] - 4s 1ms/step\n"
     ]
    }
   ],
   "source": [
    "### PLEASE CHANGE THIS CODE TO IMPLEMENT YOUR OWN PREDICTIONS\n",
    "\n",
    "# Use our dummy classifier to make predictions on test_df using `predict_proba` method:\n",
    "model.evaluate(X_val, y_val)\n",
    "\n",
    "# Make Predictions\n",
    "yp = model.predict(X_test)\n",
    "\n",
    "predicted_probability = []\n",
    "for element in yp:\n",
    "    if element > 0.5:\n",
    "        predicted_probability.append(1)\n",
    "    else:\n",
    "        predicted_probability.append(0)"
   ]
  },
  {
   "cell_type": "code",
   "execution_count": 57,
   "metadata": {},
   "outputs": [],
   "source": [
    "### PLEASE CHANGE THIS CODE TO IMPLEMENT YOUR OWN PREDICTIONS\n",
    "\n",
    "# Combine predictions with label column into a dataframe\n",
    "\n",
    "prediction_df = pd.DataFrame({'CustomerID': test_df[['CustomerID']].values[:, 0],\n",
    "                             'predicted_probability': predicted_probability})"
   ]
  },
  {
   "cell_type": "code",
   "execution_count": 58,
   "metadata": {},
   "outputs": [
    {
     "name": "stdout",
     "output_type": "stream",
     "text": [
      "(104480, 2)\n"
     ]
    },
    {
     "data": {
      "text/html": [
       "<div>\n",
       "<style scoped>\n",
       "    .dataframe tbody tr th:only-of-type {\n",
       "        vertical-align: middle;\n",
       "    }\n",
       "\n",
       "    .dataframe tbody tr th {\n",
       "        vertical-align: top;\n",
       "    }\n",
       "\n",
       "    .dataframe thead th {\n",
       "        text-align: right;\n",
       "    }\n",
       "</style>\n",
       "<table border=\"1\" class=\"dataframe\">\n",
       "  <thead>\n",
       "    <tr style=\"text-align: right;\">\n",
       "      <th></th>\n",
       "      <th>CustomerID</th>\n",
       "      <th>predicted_probability</th>\n",
       "    </tr>\n",
       "  </thead>\n",
       "  <tbody>\n",
       "    <tr>\n",
       "      <th>0</th>\n",
       "      <td>O1W6BHP6RM</td>\n",
       "      <td>0</td>\n",
       "    </tr>\n",
       "    <tr>\n",
       "      <th>1</th>\n",
       "      <td>LFR4X92X8H</td>\n",
       "      <td>0</td>\n",
       "    </tr>\n",
       "    <tr>\n",
       "      <th>2</th>\n",
       "      <td>QM5GBIYODA</td>\n",
       "      <td>0</td>\n",
       "    </tr>\n",
       "    <tr>\n",
       "      <th>3</th>\n",
       "      <td>D9RXTK2K9F</td>\n",
       "      <td>0</td>\n",
       "    </tr>\n",
       "    <tr>\n",
       "      <th>4</th>\n",
       "      <td>ENTCCHR1LR</td>\n",
       "      <td>0</td>\n",
       "    </tr>\n",
       "    <tr>\n",
       "      <th>5</th>\n",
       "      <td>7A88BB5IO6</td>\n",
       "      <td>0</td>\n",
       "    </tr>\n",
       "    <tr>\n",
       "      <th>6</th>\n",
       "      <td>70OMW9XEWR</td>\n",
       "      <td>0</td>\n",
       "    </tr>\n",
       "    <tr>\n",
       "      <th>7</th>\n",
       "      <td>EL1RMFMPYL</td>\n",
       "      <td>0</td>\n",
       "    </tr>\n",
       "    <tr>\n",
       "      <th>8</th>\n",
       "      <td>4IA2QPT6ZK</td>\n",
       "      <td>0</td>\n",
       "    </tr>\n",
       "    <tr>\n",
       "      <th>9</th>\n",
       "      <td>AEDCWHSJDN</td>\n",
       "      <td>0</td>\n",
       "    </tr>\n",
       "  </tbody>\n",
       "</table>\n",
       "</div>"
      ],
      "text/plain": [
       "   CustomerID  predicted_probability\n",
       "0  O1W6BHP6RM                      0\n",
       "1  LFR4X92X8H                      0\n",
       "2  QM5GBIYODA                      0\n",
       "3  D9RXTK2K9F                      0\n",
       "4  ENTCCHR1LR                      0\n",
       "5  7A88BB5IO6                      0\n",
       "6  70OMW9XEWR                      0\n",
       "7  EL1RMFMPYL                      0\n",
       "8  4IA2QPT6ZK                      0\n",
       "9  AEDCWHSJDN                      0"
      ]
     },
     "execution_count": 58,
     "metadata": {},
     "output_type": "execute_result"
    }
   ],
   "source": [
    "### PLEASE CHANGE THIS CODE TO IMPLEMENT YOUR OWN PREDICTIONS\n",
    "\n",
    "# View our 'prediction_df' dataframe as required for submission.\n",
    "# Ensure it should contain 104,480 rows and 2 columns 'CustomerID' and 'predicted_probaility'\n",
    "print(prediction_df.shape)\n",
    "prediction_df.head(10)"
   ]
  },
  {
   "cell_type": "markdown",
   "metadata": {},
   "source": [
    "**PLEASE CHANGE CODE ABOVE TO IMPLEMENT YOUR OWN PREDICTIONS**"
   ]
  },
  {
   "cell_type": "markdown",
   "metadata": {},
   "source": [
    "## Final Tests - **IMPORTANT** - the cells below must be run prior to submission\n",
    "\n",
    "Below are some tests to ensure your submission is in the correct format for autograding. The autograding process accepts a csv `prediction_submission.csv` which we will generate from our `prediction_df` below. Please run the tests below an ensure no assertion errors are thrown."
   ]
  },
  {
   "cell_type": "code",
   "execution_count": 59,
   "metadata": {},
   "outputs": [],
   "source": [
    "# FINAL TEST CELLS - please make sure all of your code is above these test cells\n",
    "\n",
    "# Writing to csv for autograding purposes\n",
    "prediction_df.to_csv(\"prediction_submission.csv\", index=False)\n",
    "submission = pd.read_csv(\"prediction_submission.csv\")\n",
    "\n",
    "assert isinstance(submission, pd.DataFrame), 'You should have a dataframe named prediction_df.'"
   ]
  },
  {
   "cell_type": "code",
   "execution_count": 60,
   "metadata": {},
   "outputs": [],
   "source": [
    "# FINAL TEST CELLS - please make sure all of your code is above these test cells\n",
    "\n",
    "assert submission.columns[0] == 'CustomerID', 'The first column name should be CustomerID.'\n",
    "assert submission.columns[1] == 'predicted_probability', 'The second column name should be predicted_probability.'"
   ]
  },
  {
   "cell_type": "code",
   "execution_count": 63,
   "metadata": {},
   "outputs": [],
   "source": [
    "# FINAL TEST CELLS - please make sure all of your code is above these test cells\n",
    "\n",
    "assert submission.shape[0] == 104480, 'The dataframe prediction_df should have 104480 rows.'"
   ]
  },
  {
   "cell_type": "code",
   "execution_count": 64,
   "metadata": {},
   "outputs": [],
   "source": [
    "# FINAL TEST CELLS - please make sure all of your code is above these test cells\n",
    "\n",
    "assert submission.shape[1] == 2, 'The dataframe prediction_df should have 2 columns.'"
   ]
  },
  {
   "cell_type": "code",
   "execution_count": 65,
   "metadata": {},
   "outputs": [],
   "source": [
    "# FINAL TEST CELLS - please make sure all of your code is above these test cells\n",
    "\n",
    "## This cell calculates the auc score and is hidden. Submit Assignment to see AUC score."
   ]
  },
  {
   "cell_type": "markdown",
   "metadata": {},
   "source": [
    "## SUBMIT YOUR WORK!\n",
    "\n",
    "Once we are happy with our `prediction_df` and `prediction_submission.csv` we can now submit for autograding! Submit by using the blue **Submit Assignment** at the top of your notebook. Don't worry if your initial submission isn't perfect as you have multiple submission attempts and will obtain some feedback after each submission!"
   ]
  }
 ],
 "metadata": {
  "kernelspec": {
   "display_name": "Python 3",
   "language": "python",
   "name": "python3"
  },
  "language_info": {
   "codemirror_mode": {
    "name": "ipython",
    "version": 3
   },
   "file_extension": ".py",
   "mimetype": "text/x-python",
   "name": "python",
   "nbconvert_exporter": "python",
   "pygments_lexer": "ipython3",
   "version": "3.7.6"
  }
 },
 "nbformat": 4,
 "nbformat_minor": 4
}
